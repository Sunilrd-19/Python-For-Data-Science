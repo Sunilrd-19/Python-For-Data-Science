{
 "cells": [
  {
   "cell_type": "code",
   "execution_count": 1,
   "id": "c438b2ac",
   "metadata": {},
   "outputs": [
    {
     "data": {
      "text/plain": [
       "1"
      ]
     },
     "execution_count": 1,
     "metadata": {},
     "output_type": "execute_result"
    }
   ],
   "source": [
    "1\n"
   ]
  },
  {
   "cell_type": "code",
   "execution_count": 2,
   "id": "cbab954a",
   "metadata": {},
   "outputs": [
    {
     "data": {
      "text/plain": [
       "11"
      ]
     },
     "execution_count": 2,
     "metadata": {},
     "output_type": "execute_result"
    }
   ],
   "source": [
    "1+10"
   ]
  },
  {
   "cell_type": "code",
   "execution_count": 3,
   "id": "3601fb47",
   "metadata": {},
   "outputs": [
    {
     "data": {
      "text/plain": [
       "-1"
      ]
     },
     "execution_count": 3,
     "metadata": {},
     "output_type": "execute_result"
    }
   ],
   "source": [
    "1-2"
   ]
  },
  {
   "cell_type": "code",
   "execution_count": 4,
   "id": "79c457be",
   "metadata": {},
   "outputs": [
    {
     "data": {
      "text/plain": [
       "16"
      ]
     },
     "execution_count": 4,
     "metadata": {},
     "output_type": "execute_result"
    }
   ],
   "source": [
    "2*8"
   ]
  },
  {
   "cell_type": "code",
   "execution_count": 5,
   "id": "5dc33655",
   "metadata": {},
   "outputs": [
    {
     "data": {
      "text/plain": [
       "4"
      ]
     },
     "execution_count": 5,
     "metadata": {},
     "output_type": "execute_result"
    }
   ],
   "source": [
    "2**2\n"
   ]
  },
  {
   "cell_type": "code",
   "execution_count": 7,
   "id": "2a350b8d",
   "metadata": {},
   "outputs": [
    {
     "data": {
      "text/plain": [
       "8"
      ]
     },
     "execution_count": 7,
     "metadata": {},
     "output_type": "execute_result"
    }
   ],
   "source": [
    "2**2 *2"
   ]
  },
  {
   "cell_type": "code",
   "execution_count": 8,
   "id": "9e062b27",
   "metadata": {},
   "outputs": [
    {
     "data": {
      "text/plain": [
       "9"
      ]
     },
     "execution_count": 8,
     "metadata": {},
     "output_type": "execute_result"
    }
   ],
   "source": [
    "2+1*5+2"
   ]
  },
  {
   "cell_type": "code",
   "execution_count": 9,
   "id": "fbc17a3b",
   "metadata": {},
   "outputs": [
    {
     "data": {
      "text/plain": [
       "21"
      ]
     },
     "execution_count": 9,
     "metadata": {},
     "output_type": "execute_result"
    }
   ],
   "source": [
    "(2+1)*(5+2)"
   ]
  },
  {
   "cell_type": "code",
   "execution_count": 11,
   "id": "5151dbe0",
   "metadata": {},
   "outputs": [
    {
     "data": {
      "text/plain": [
       "6"
      ]
     },
     "execution_count": 11,
     "metadata": {},
     "output_type": "execute_result"
    }
   ],
   "source": [
    "b=2\n",
    "x=3\n",
    "\n",
    "b*x"
   ]
  },
  {
   "cell_type": "code",
   "execution_count": 12,
   "id": "7e6664a3",
   "metadata": {},
   "outputs": [
    {
     "data": {
      "text/plain": [
       "1.0"
      ]
     },
     "execution_count": 12,
     "metadata": {},
     "output_type": "execute_result"
    }
   ],
   "source": [
    "b/2"
   ]
  },
  {
   "cell_type": "code",
   "execution_count": 13,
   "id": "eadf792b",
   "metadata": {},
   "outputs": [
    {
     "data": {
      "text/plain": [
       "1.0"
      ]
     },
     "execution_count": 13,
     "metadata": {},
     "output_type": "execute_result"
    }
   ],
   "source": [
    "b/2.0"
   ]
  },
  {
   "cell_type": "code",
   "execution_count": 14,
   "id": "5ede08ec",
   "metadata": {},
   "outputs": [
    {
     "data": {
      "text/plain": [
       "1.0"
      ]
     },
     "execution_count": 14,
     "metadata": {},
     "output_type": "execute_result"
    }
   ],
   "source": [
    "2/2 * 1"
   ]
  },
  {
   "cell_type": "code",
   "execution_count": 15,
   "id": "435515eb",
   "metadata": {},
   "outputs": [
    {
     "data": {
      "text/plain": [
       "1"
      ]
     },
     "execution_count": 15,
     "metadata": {},
     "output_type": "execute_result"
    }
   ],
   "source": [
    "10%3"
   ]
  },
  {
   "cell_type": "code",
   "execution_count": 16,
   "id": "f578b882",
   "metadata": {},
   "outputs": [],
   "source": [
    "#strings"
   ]
  },
  {
   "cell_type": "code",
   "execution_count": 24,
   "id": "f5877fef",
   "metadata": {},
   "outputs": [],
   "source": [
    "sunil = \"My name is sunil \""
   ]
  },
  {
   "cell_type": "code",
   "execution_count": 25,
   "id": "53c54893",
   "metadata": {},
   "outputs": [
    {
     "data": {
      "text/plain": [
       "'My name is sunil '"
      ]
     },
     "execution_count": 25,
     "metadata": {},
     "output_type": "execute_result"
    }
   ],
   "source": [
    "sunil"
   ]
  },
  {
   "cell_type": "code",
   "execution_count": 26,
   "id": "13d7074e",
   "metadata": {},
   "outputs": [],
   "source": [
    "srd= \"Doddamani\""
   ]
  },
  {
   "cell_type": "code",
   "execution_count": 27,
   "id": "bf699045",
   "metadata": {},
   "outputs": [
    {
     "data": {
      "text/plain": [
       "'Doddamani'"
      ]
     },
     "execution_count": 27,
     "metadata": {},
     "output_type": "execute_result"
    }
   ],
   "source": [
    "srd\n"
   ]
  },
  {
   "cell_type": "code",
   "execution_count": 28,
   "id": "3cd5ff39",
   "metadata": {},
   "outputs": [
    {
     "data": {
      "text/plain": [
       "'My name is sunil Doddamani'"
      ]
     },
     "execution_count": 28,
     "metadata": {},
     "output_type": "execute_result"
    }
   ],
   "source": [
    "sunil+ srd"
   ]
  },
  {
   "cell_type": "code",
   "execution_count": 29,
   "id": "ed93d5d8",
   "metadata": {},
   "outputs": [
    {
     "name": "stdout",
     "output_type": "stream",
     "text": [
      "My name is sunil Doddamani\n"
     ]
    }
   ],
   "source": [
    "print(sunil+srd)"
   ]
  },
  {
   "cell_type": "code",
   "execution_count": 33,
   "id": "f8bd22e4",
   "metadata": {},
   "outputs": [],
   "source": [
    "Myname ='Sunil'\n",
    "MyPlace = 'Ron'\n"
   ]
  },
  {
   "cell_type": "code",
   "execution_count": 34,
   "id": "2b0478cd",
   "metadata": {},
   "outputs": [
    {
     "data": {
      "text/plain": [
       "'my name is Sunil and my place is Ron'"
      ]
     },
     "execution_count": 34,
     "metadata": {},
     "output_type": "execute_result"
    }
   ],
   "source": [
    "'my name is {} and my place is {}'.format(Myname, MyPlace)"
   ]
  },
  {
   "cell_type": "code",
   "execution_count": 35,
   "id": "429cf19e",
   "metadata": {},
   "outputs": [
    {
     "name": "stdout",
     "output_type": "stream",
     "text": [
      "my name is Sunil and my place is Ron\n"
     ]
    }
   ],
   "source": [
    "print('my name is {} and my place is {}'.format(Myname, MyPlace))"
   ]
  },
  {
   "cell_type": "code",
   "execution_count": 36,
   "id": "82169e62",
   "metadata": {},
   "outputs": [],
   "source": [
    "#indexing in Strings"
   ]
  },
  {
   "cell_type": "code",
   "execution_count": 37,
   "id": "7f3dad78",
   "metadata": {},
   "outputs": [],
   "source": [
    "s= 'sunilrd'"
   ]
  },
  {
   "cell_type": "code",
   "execution_count": 38,
   "id": "b050bbeb",
   "metadata": {},
   "outputs": [
    {
     "data": {
      "text/plain": [
       "'n'"
      ]
     },
     "execution_count": 38,
     "metadata": {},
     "output_type": "execute_result"
    }
   ],
   "source": [
    "s[2]"
   ]
  },
  {
   "cell_type": "code",
   "execution_count": 39,
   "id": "adb0d907",
   "metadata": {},
   "outputs": [
    {
     "data": {
      "text/plain": [
       "'r'"
      ]
     },
     "execution_count": 39,
     "metadata": {},
     "output_type": "execute_result"
    }
   ],
   "source": [
    "s[5]"
   ]
  },
  {
   "cell_type": "code",
   "execution_count": 40,
   "id": "d0d42edc",
   "metadata": {},
   "outputs": [],
   "source": [
    "d='abcdefghij'"
   ]
  },
  {
   "cell_type": "code",
   "execution_count": 41,
   "id": "22f62268",
   "metadata": {},
   "outputs": [
    {
     "data": {
      "text/plain": [
       "'abcdefghij'"
      ]
     },
     "execution_count": 41,
     "metadata": {},
     "output_type": "execute_result"
    }
   ],
   "source": [
    "d[0:]"
   ]
  },
  {
   "cell_type": "code",
   "execution_count": 42,
   "id": "de218216",
   "metadata": {},
   "outputs": [
    {
     "data": {
      "text/plain": [
       "'abcde'"
      ]
     },
     "execution_count": 42,
     "metadata": {},
     "output_type": "execute_result"
    }
   ],
   "source": [
    "d[0:5]"
   ]
  },
  {
   "cell_type": "code",
   "execution_count": 43,
   "id": "51073650",
   "metadata": {},
   "outputs": [
    {
     "data": {
      "text/plain": [
       "'abcd'"
      ]
     },
     "execution_count": 43,
     "metadata": {},
     "output_type": "execute_result"
    }
   ],
   "source": [
    "d[0:4]"
   ]
  },
  {
   "cell_type": "code",
   "execution_count": 44,
   "id": "dc5c74fc",
   "metadata": {},
   "outputs": [
    {
     "data": {
      "text/plain": [
       "'abc'"
      ]
     },
     "execution_count": 44,
     "metadata": {},
     "output_type": "execute_result"
    }
   ],
   "source": [
    "d[0:3]"
   ]
  },
  {
   "cell_type": "code",
   "execution_count": 45,
   "id": "8d0a0e6a",
   "metadata": {},
   "outputs": [
    {
     "name": "stdout",
     "output_type": "stream",
     "text": [
      "abc\n"
     ]
    }
   ],
   "source": [
    "print(d[0:3])"
   ]
  },
  {
   "cell_type": "code",
   "execution_count": 46,
   "id": "47b696b1",
   "metadata": {},
   "outputs": [
    {
     "name": "stdout",
     "output_type": "stream",
     "text": [
      "abc fghi\n"
     ]
    }
   ],
   "source": [
    "print(d[0:3],d[5:9])"
   ]
  },
  {
   "cell_type": "code",
   "execution_count": 49,
   "id": "e4dd28a5",
   "metadata": {},
   "outputs": [
    {
     "name": "stdout",
     "output_type": "stream",
     "text": [
      "abc hij\n"
     ]
    }
   ],
   "source": [
    "print(d[0:3],d[7:])"
   ]
  },
  {
   "cell_type": "code",
   "execution_count": 65,
   "id": "7af0f10e",
   "metadata": {},
   "outputs": [],
   "source": [
    "#list append\n",
    "\n",
    "mylist=['a','d','e','tt']"
   ]
  },
  {
   "cell_type": "code",
   "execution_count": 66,
   "id": "ab819040",
   "metadata": {},
   "outputs": [
    {
     "data": {
      "text/plain": [
       "['a', 'd', 'e', 'tt']"
      ]
     },
     "execution_count": 66,
     "metadata": {},
     "output_type": "execute_result"
    }
   ],
   "source": [
    "mylist"
   ]
  },
  {
   "cell_type": "code",
   "execution_count": 67,
   "id": "5d83d676",
   "metadata": {},
   "outputs": [
    {
     "data": {
      "text/plain": [
       "'a'"
      ]
     },
     "execution_count": 67,
     "metadata": {},
     "output_type": "execute_result"
    }
   ],
   "source": [
    "mylist[0]"
   ]
  },
  {
   "cell_type": "code",
   "execution_count": 68,
   "id": "7daaa0ed",
   "metadata": {},
   "outputs": [
    {
     "name": "stdout",
     "output_type": "stream",
     "text": [
      "a\n"
     ]
    }
   ],
   "source": [
    "print(mylist[0])"
   ]
  },
  {
   "cell_type": "code",
   "execution_count": 69,
   "id": "65e16b97",
   "metadata": {},
   "outputs": [
    {
     "data": {
      "text/plain": [
       "['a', 'd', 'e', 'tt']"
      ]
     },
     "execution_count": 69,
     "metadata": {},
     "output_type": "execute_result"
    }
   ],
   "source": [
    "mylist"
   ]
  },
  {
   "cell_type": "code",
   "execution_count": 70,
   "id": "74112909",
   "metadata": {},
   "outputs": [],
   "source": [
    "mylist[0]='ww'"
   ]
  },
  {
   "cell_type": "code",
   "execution_count": 71,
   "id": "6763ceeb",
   "metadata": {},
   "outputs": [
    {
     "data": {
      "text/plain": [
       "['ww', 'd', 'e', 'tt']"
      ]
     },
     "execution_count": 71,
     "metadata": {},
     "output_type": "execute_result"
    }
   ],
   "source": [
    "mylist"
   ]
  },
  {
   "cell_type": "code",
   "execution_count": 72,
   "id": "a710e8aa",
   "metadata": {},
   "outputs": [],
   "source": [
    "#nested list\n",
    "\n",
    "mydd=['s','r','tt','yy',[2,3]]"
   ]
  },
  {
   "cell_type": "code",
   "execution_count": 73,
   "id": "bffcbfdf",
   "metadata": {},
   "outputs": [
    {
     "data": {
      "text/plain": [
       "['s', 'r', 'tt', 'yy', [2, 3]]"
      ]
     },
     "execution_count": 73,
     "metadata": {},
     "output_type": "execute_result"
    }
   ],
   "source": [
    "mydd"
   ]
  },
  {
   "cell_type": "code",
   "execution_count": 84,
   "id": "4e882deb",
   "metadata": {},
   "outputs": [
    {
     "data": {
      "text/plain": [
       "3"
      ]
     },
     "execution_count": 84,
     "metadata": {},
     "output_type": "execute_result"
    }
   ],
   "source": [
    "mydd[4][1]"
   ]
  },
  {
   "cell_type": "code",
   "execution_count": 91,
   "id": "deb7375d",
   "metadata": {},
   "outputs": [],
   "source": [
    "nest = [1,2,3,[4,5,['target']]]"
   ]
  },
  {
   "cell_type": "code",
   "execution_count": 92,
   "id": "75b083e8",
   "metadata": {},
   "outputs": [
    {
     "data": {
      "text/plain": [
       "[4, 5, ['target']]"
      ]
     },
     "execution_count": 92,
     "metadata": {},
     "output_type": "execute_result"
    }
   ],
   "source": [
    "nest[3]"
   ]
  },
  {
   "cell_type": "code",
   "execution_count": 93,
   "id": "8fbc926d",
   "metadata": {},
   "outputs": [
    {
     "data": {
      "text/plain": [
       "['target']"
      ]
     },
     "execution_count": 93,
     "metadata": {},
     "output_type": "execute_result"
    }
   ],
   "source": [
    "nest[3][2]"
   ]
  },
  {
   "cell_type": "code",
   "execution_count": 95,
   "id": "b9c51027",
   "metadata": {},
   "outputs": [
    {
     "name": "stdout",
     "output_type": "stream",
     "text": [
      "target\n"
     ]
    }
   ],
   "source": [
    "print(nest[3][2][0])"
   ]
  },
  {
   "cell_type": "code",
   "execution_count": 106,
   "id": "fda75397",
   "metadata": {},
   "outputs": [],
   "source": [
    "nest = [1,2,3,[4,5,6,[3,6,['target']]]]"
   ]
  },
  {
   "cell_type": "code",
   "execution_count": 107,
   "id": "3abf438e",
   "metadata": {},
   "outputs": [],
   "source": [
    "ff=nest"
   ]
  },
  {
   "cell_type": "code",
   "execution_count": 108,
   "id": "6d7e5554",
   "metadata": {},
   "outputs": [
    {
     "data": {
      "text/plain": [
       "[1, 2, 3, [4, 5, 6, [3, 6, ['target']]]]"
      ]
     },
     "execution_count": 108,
     "metadata": {},
     "output_type": "execute_result"
    }
   ],
   "source": [
    "ff"
   ]
  },
  {
   "cell_type": "code",
   "execution_count": 115,
   "id": "8ded4e22",
   "metadata": {},
   "outputs": [
    {
     "data": {
      "text/plain": [
       "'target'"
      ]
     },
     "execution_count": 115,
     "metadata": {},
     "output_type": "execute_result"
    }
   ],
   "source": [
    "ff[3][3][2][0]"
   ]
  },
  {
   "cell_type": "code",
   "execution_count": 114,
   "id": "4a9feb66",
   "metadata": {},
   "outputs": [
    {
     "name": "stdout",
     "output_type": "stream",
     "text": [
      "target\n"
     ]
    }
   ],
   "source": [
    "print(ff[3][3][2][0])"
   ]
  },
  {
   "cell_type": "code",
   "execution_count": 116,
   "id": "e3d0c7fa",
   "metadata": {},
   "outputs": [],
   "source": [
    "#dictionaries\n",
    "\n",
    "dd={'s':'ss','e':'tt'}"
   ]
  },
  {
   "cell_type": "code",
   "execution_count": 117,
   "id": "59a504db",
   "metadata": {},
   "outputs": [
    {
     "data": {
      "text/plain": [
       "{'s': 'ss', 'e': 'tt'}"
      ]
     },
     "execution_count": 117,
     "metadata": {},
     "output_type": "execute_result"
    }
   ],
   "source": [
    "dd"
   ]
  },
  {
   "cell_type": "code",
   "execution_count": 118,
   "id": "1cc3c670",
   "metadata": {},
   "outputs": [
    {
     "name": "stdout",
     "output_type": "stream",
     "text": [
      "{'s': 'ss', 'e': 'tt'}\n"
     ]
    }
   ],
   "source": [
    "print(dd)"
   ]
  },
  {
   "cell_type": "code",
   "execution_count": 124,
   "id": "bc365ad9",
   "metadata": {},
   "outputs": [
    {
     "data": {
      "text/plain": [
       "'ss'"
      ]
     },
     "execution_count": 124,
     "metadata": {},
     "output_type": "execute_result"
    }
   ],
   "source": [
    "dd['s']"
   ]
  },
  {
   "cell_type": "code",
   "execution_count": 126,
   "id": "4c41fd63",
   "metadata": {},
   "outputs": [],
   "source": [
    "dd.update({'rr':'opps'})"
   ]
  },
  {
   "cell_type": "code",
   "execution_count": 127,
   "id": "a0c4fa25",
   "metadata": {},
   "outputs": [
    {
     "data": {
      "text/plain": [
       "{'s': 'ss', 'e': 'tt', 'rr': 'opps'}"
      ]
     },
     "execution_count": 127,
     "metadata": {},
     "output_type": "execute_result"
    }
   ],
   "source": [
    "dd"
   ]
  },
  {
   "cell_type": "code",
   "execution_count": 128,
   "id": "35f8a211",
   "metadata": {},
   "outputs": [],
   "source": [
    "dd.update({'44':'[2,3,4,5]'})"
   ]
  },
  {
   "cell_type": "code",
   "execution_count": 129,
   "id": "6e0e9daa",
   "metadata": {},
   "outputs": [
    {
     "data": {
      "text/plain": [
       "{'s': 'ss', 'e': 'tt', 'rr': 'opps', '44': '[2,3,4,5]'}"
      ]
     },
     "execution_count": 129,
     "metadata": {},
     "output_type": "execute_result"
    }
   ],
   "source": [
    "dd"
   ]
  },
  {
   "cell_type": "code",
   "execution_count": 133,
   "id": "f46fb283",
   "metadata": {},
   "outputs": [
    {
     "data": {
      "text/plain": [
       "'2'"
      ]
     },
     "execution_count": 133,
     "metadata": {},
     "output_type": "execute_result"
    }
   ],
   "source": [
    "dd['44'][1]"
   ]
  },
  {
   "cell_type": "code",
   "execution_count": 134,
   "id": "dd7a766d",
   "metadata": {},
   "outputs": [],
   "source": [
    "#sets\n",
    "\n",
    "d=(1,2,3,4,5)"
   ]
  },
  {
   "cell_type": "code",
   "execution_count": 135,
   "id": "be085e69",
   "metadata": {},
   "outputs": [
    {
     "data": {
      "text/plain": [
       "(1, 2, 3, 4, 5)"
      ]
     },
     "execution_count": 135,
     "metadata": {},
     "output_type": "execute_result"
    }
   ],
   "source": [
    "d"
   ]
  },
  {
   "cell_type": "code",
   "execution_count": 136,
   "id": "dccf411f",
   "metadata": {},
   "outputs": [
    {
     "data": {
      "text/plain": [
       "3"
      ]
     },
     "execution_count": 136,
     "metadata": {},
     "output_type": "execute_result"
    }
   ],
   "source": [
    "d[2]"
   ]
  },
  {
   "cell_type": "code",
   "execution_count": 137,
   "id": "f67edaea",
   "metadata": {},
   "outputs": [
    {
     "ename": "TypeError",
     "evalue": "'tuple' object does not support item assignment",
     "output_type": "error",
     "traceback": [
      "\u001b[1;31m---------------------------------------------------------------------------\u001b[0m",
      "\u001b[1;31mTypeError\u001b[0m                                 Traceback (most recent call last)",
      "\u001b[1;32m<ipython-input-137-95779ec7f365>\u001b[0m in \u001b[0;36m<module>\u001b[1;34m\u001b[0m\n\u001b[1;32m----> 1\u001b[1;33m \u001b[0md\u001b[0m\u001b[1;33m[\u001b[0m\u001b[1;36m3\u001b[0m\u001b[1;33m]\u001b[0m\u001b[1;33m=\u001b[0m\u001b[1;36m34\u001b[0m\u001b[1;33m\u001b[0m\u001b[1;33m\u001b[0m\u001b[0m\n\u001b[0m",
      "\u001b[1;31mTypeError\u001b[0m: 'tuple' object does not support item assignment"
     ]
    }
   ],
   "source": [
    "d[3]=34"
   ]
  },
  {
   "cell_type": "code",
   "execution_count": 1,
   "id": "e90b39da",
   "metadata": {},
   "outputs": [
    {
     "data": {
      "text/plain": [
       "False"
      ]
     },
     "execution_count": 1,
     "metadata": {},
     "output_type": "execute_result"
    }
   ],
   "source": [
    "'up'=='down'"
   ]
  },
  {
   "cell_type": "code",
   "execution_count": 5,
   "id": "fb8714b9",
   "metadata": {},
   "outputs": [
    {
     "name": "stdout",
     "output_type": "stream",
     "text": [
      "correct\n"
     ]
    }
   ],
   "source": [
    "#if elif and else\n",
    "\n",
    "if 1==6:\n",
    "    print('wrong')\n",
    "elif 1==1:\n",
    "    print('correct')\n",
    "    "
   ]
  },
  {
   "cell_type": "code",
   "execution_count": 13,
   "id": "2ac024f6",
   "metadata": {},
   "outputs": [
    {
     "name": "stdout",
     "output_type": "stream",
     "text": [
      "yeah\n"
     ]
    }
   ],
   "source": [
    "if 10%2==0:\n",
    "    print('yeah')\n",
    "elif 10%2!=0:\n",
    "    print('no')\n",
    "else:\n",
    "    print('try one more')\n"
   ]
  },
  {
   "cell_type": "code",
   "execution_count": 11,
   "id": "f26590ac",
   "metadata": {},
   "outputs": [
    {
     "data": {
      "text/plain": [
       "2"
      ]
     },
     "execution_count": 11,
     "metadata": {},
     "output_type": "execute_result"
    }
   ],
   "source": [
    "2%10"
   ]
  },
  {
   "cell_type": "code",
   "execution_count": 12,
   "id": "2fe4ec8d",
   "metadata": {},
   "outputs": [
    {
     "data": {
      "text/plain": [
       "0.2"
      ]
     },
     "execution_count": 12,
     "metadata": {},
     "output_type": "execute_result"
    }
   ],
   "source": [
    "2/10"
   ]
  },
  {
   "cell_type": "code",
   "execution_count": 18,
   "id": "8f83546d",
   "metadata": {},
   "outputs": [
    {
     "name": "stdout",
     "output_type": "stream",
     "text": [
      "SRD\n",
      "SRD\n",
      "SRD\n",
      "SRD\n",
      "SRD\n",
      "SRD\n"
     ]
    }
   ],
   "source": [
    "seq=[1,2,3,4,5,6]\n",
    "\n",
    "for num in seq:\n",
    "    print('SRD')"
   ]
  },
  {
   "cell_type": "code",
   "execution_count": null,
   "id": "8a67a4ba",
   "metadata": {},
   "outputs": [],
   "source": [
    "i=1\n",
    "\n",
    "while i<10:\n",
    "    print('i is: {}'.format(i))\n",
    "    i=i+1"
   ]
  },
  {
   "cell_type": "code",
   "execution_count": null,
   "id": "283e9226",
   "metadata": {},
   "outputs": [],
   "source": [
    "#range\n",
    "\n",
    "for x in range(0,10)"
   ]
  },
  {
   "cell_type": "code",
   "execution_count": null,
   "id": "22f1776d",
   "metadata": {},
   "outputs": [],
   "source": [
    "print(x)"
   ]
  },
  {
   "cell_type": "code",
   "execution_count": null,
   "id": "3bbd9e9a",
   "metadata": {},
   "outputs": [],
   "source": []
  }
 ],
 "metadata": {
  "kernelspec": {
   "display_name": "Python 3",
   "language": "python",
   "name": "python3"
  },
  "language_info": {
   "codemirror_mode": {
    "name": "ipython",
    "version": 3
   },
   "file_extension": ".py",
   "mimetype": "text/x-python",
   "name": "python",
   "nbconvert_exporter": "python",
   "pygments_lexer": "ipython3",
   "version": "3.8.10"
  }
 },
 "nbformat": 4,
 "nbformat_minor": 5
}
